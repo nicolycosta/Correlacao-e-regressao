{
  "nbformat": 4,
  "nbformat_minor": 0,
  "metadata": {
    "colab": {
      "name": "VARMA.ipynb",
      "provenance": [],
      "collapsed_sections": [],
      "authorship_tag": "ABX9TyOEPUTPvNToi1W+cXxdX4Gn",
      "include_colab_link": true
    },
    "kernelspec": {
      "name": "python3",
      "display_name": "Python 3"
    },
    "language_info": {
      "name": "python"
    }
  },
  "cells": [
    {
      "cell_type": "markdown",
      "metadata": {
        "id": "view-in-github",
        "colab_type": "text"
      },
      "source": [
        "<a href=\"https://colab.research.google.com/github/nicolycosta/VARMA/blob/main/VARMA.ipynb\" target=\"_parent\"><img src=\"https://colab.research.google.com/assets/colab-badge.svg\" alt=\"Open In Colab\"/></a>"
      ]
    },
    {
      "cell_type": "code",
      "execution_count": null,
      "metadata": {
        "id": "TZ0ffXJDVGA8"
      },
      "outputs": [],
      "source": [
        "# Vector Autoregression (VAR) "
      ]
    },
    {
      "cell_type": "markdown",
      "source": [
        "### Vector Autoregression (VAR) "
      ],
      "metadata": {
        "id": "JAvx8WLsVNEw"
      }
    },
    {
      "cell_type": "markdown",
      "source": [
        "## Vector Autoregression (VAR) "
      ],
      "metadata": {
        "id": "eLNtEJTRVtd9"
      }
    },
    {
      "cell_type": "markdown",
      "source": [
        ""
      ],
      "metadata": {
        "id": "oitn2VRMVMTp"
      }
    }
  ]
}